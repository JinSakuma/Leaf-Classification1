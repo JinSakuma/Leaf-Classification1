{
 "cells": [
  {
   "cell_type": "code",
   "execution_count": 1,
   "metadata": {
    "collapsed": true
   },
   "outputs": [],
   "source": [
    "#必要なライブラリのインポート\n",
    "import cv2\n",
    "import numpy as np\n",
    "import pandas as pd\n",
    "import matplotlib.pyplot as plt\n",
    "%matplotlib inline"
   ]
  },
  {
   "cell_type": "code",
   "execution_count": 2,
   "metadata": {
    "collapsed": true
   },
   "outputs": [],
   "source": [
    "#画像の読み込み・保存\n",
    "img = []\n",
    "for i in range(1,1585):\n",
    "    image = cv2.imread('images/%d.jpg'%i)\n",
    "    img.append(image)\n",
    "    cv2.imwrite('leaf_images/%d.jpg'%(i-1), img[i-1])"
   ]
  },
  {
   "cell_type": "code",
   "execution_count": 3,
   "metadata": {
    "collapsed": true
   },
   "outputs": [],
   "source": [
    "#保存した画像の読み込み\n",
    "img = []\n",
    "for i in range(1584):\n",
    "    image = cv2.imread('leaf_images/%d.jpg'%i)\n",
    "    img.append(image)"
   ]
  },
  {
   "cell_type": "code",
   "execution_count": 4,
   "metadata": {},
   "outputs": [
    {
     "data": {
      "text/plain": [
       "<matplotlib.image.AxesImage at 0x21214c3aa90>"
      ]
     },
     "execution_count": 4,
     "metadata": {},
     "output_type": "execute_result"
    },
    {
     "data": {
      "image/png": "[encoded data removed]",
      "text/plain": [
       "<matplotlib.figure.Figure at 0x21214ac76a0>"
      ]
     },
     "metadata": {},
     "output_type": "display_data"
    }
   ],
   "source": [
    "plt.imshow(img[0])"
   ]
  },
  {
   "cell_type": "code",
   "execution_count": 5,
   "metadata": {
    "collapsed": true
   },
   "outputs": [],
   "source": [
    "#画像をリサイズする関数の定義\n",
    "def resize(image):\n",
    "    side = 100\n",
    "    \n",
    "    if image.shape[0] >= image.shape[1]:\n",
    "        max_side = image.shape[0]\n",
    "    else:\n",
    "        max_side = image.shape[1]\n",
    "        \n",
    "    scale = side / max_side\n",
    "    height, width = image.shape\n",
    "    size = (int(width*scale), int(height*scale))\n",
    "    resized_img = cv2.resize(image, size)\n",
    "\n",
    "    height, width = resized_img.shape\n",
    "\n",
    "    if width >= height:\n",
    "        pad = np.zeros([int((width-height)/2),width])\n",
    "        new_img = np.vstack((pad, resized_img, pad))\n",
    "    else:\n",
    "        pad = np.zeros([height, int((height-width)/2)])\n",
    "        new_img = np.hstack((pad, resized_img, pad))\n",
    "        \n",
    "    new_img = cv2.resize(new_img, (100,100))\n",
    "    \n",
    "    return new_img"
   ]
  },
  {
   "cell_type": "code",
   "execution_count": 6,
   "metadata": {
    "collapsed": true
   },
   "outputs": [],
   "source": [
    "#画像の前処理\n",
    "for i in range(1584):\n",
    "    img[i] = cv2.cvtColor(img[i], cv2.COLOR_RGB2GRAY) #グレースケール化\n",
    "    img[i] = resize(img[i]) #リサイズ"
   ]
  },
  {
   "cell_type": "code",
   "execution_count": 7,
   "metadata": {},
   "outputs": [
    {
     "data": {
      "text/plain": [
       "(100, 100)"
      ]
     },
     "execution_count": 7,
     "metadata": {},
     "output_type": "execute_result"
    }
   ],
   "source": [
    "img[0].shape"
   ]
  },
  {
   "cell_type": "code",
   "execution_count": 8,
   "metadata": {
    "collapsed": true
   },
   "outputs": [],
   "source": [
    "#データの読み込み\n",
    "df_train = pd.read_csv('train.csv')\n",
    "df_test = pd.read_csv('test.csv')"
   ]
  },
  {
   "cell_type": "code",
   "execution_count": 9,
   "metadata": {
    "collapsed": true
   },
   "outputs": [],
   "source": [
    "#トレーニング用データの作成\n",
    "train_img = []\n",
    "for i in df_train['id']:\n",
    "    image = img[i-1]\n",
    "    train_img.append(image)\n",
    "    \n",
    "#テスト用データの作成    \n",
    "test_img = []\n",
    "for i in df_test['id']:\n",
    "    image = img[i-1]\n",
    "    test_img.append(image)"
   ]
  },
  {
   "cell_type": "code",
   "execution_count": 10,
   "metadata": {
    "collapsed": true
   },
   "outputs": [],
   "source": [
    "labels_num = pd.get_dummies(df_train['species'])\n",
    "labels_num = np.array(labels_num)\n",
    "\n",
    "labels = []\n",
    "for i in range(990):\n",
    "    for j in range(99):\n",
    "        if labels_num[i,j] == 1:\n",
    "            labels.append(j)"
   ]
  },
  {
   "cell_type": "code",
   "execution_count": 11,
   "metadata": {
    "collapsed": true
   },
   "outputs": [],
   "source": [
    "from sklearn.model_selection import train_test_split \n",
    "X_train, X_test, y_train, y_test = train_test_split(train_img,\n",
    "                                                    labels, test_size=0.3, random_state=0)"
   ]
  },
  {
   "cell_type": "code",
   "execution_count": 12,
   "metadata": {},
   "outputs": [
    {
     "data": {
      "text/plain": [
       "list"
      ]
     },
     "execution_count": 12,
     "metadata": {},
     "output_type": "execute_result"
    }
   ],
   "source": [
    "type(X_train)"
   ]
  },
  {
   "cell_type": "code",
   "execution_count": 13,
   "metadata": {},
   "outputs": [
    {
     "data": {
      "text/plain": [
       "693"
      ]
     },
     "execution_count": 13,
     "metadata": {},
     "output_type": "execute_result"
    }
   ],
   "source": [
    "len(X_train)"
   ]
  },
  {
   "cell_type": "code",
   "execution_count": 14,
   "metadata": {
    "collapsed": true
   },
   "outputs": [],
   "source": [
    "def augmentation1(image):\n",
    "    # 左右反転のノイズを加える\n",
    "    image = np.fliplr(image)\n",
    "    \n",
    "    return image"
   ]
  },
  {
   "cell_type": "code",
   "execution_count": 15,
   "metadata": {
    "collapsed": true
   },
   "outputs": [],
   "source": [
    "def augmentation2(image):\n",
    "    # 左右反転のノイズを加える\n",
    "    image = np.fliplr(image)\n",
    "    \n",
    "    if np.random.rand() > 0.5:\n",
    "        #90度回転させる\n",
    "        size = (image.shape[0], image.shape[1])\n",
    "        # 画像の中心位置(x, y)\n",
    "        center = (int(size[0]/2), int(size[1]/2))\n",
    "        # 回転させたい角度\n",
    "        angle = 90\n",
    "        # 拡大比率\n",
    "        scale = 1.0\n",
    "        # 回転変換行列の算出\n",
    "        rotation_matrix = cv2.getRotationMatrix2D(center, angle, scale)\n",
    "        # 並進移動\n",
    "        image = cv2.warpAffine(image, rotation_matrix, size)\n",
    "        \n",
    "    return image"
   ]
  },
  {
   "cell_type": "code",
   "execution_count": 16,
   "metadata": {
    "collapsed": true
   },
   "outputs": [],
   "source": [
    "def augmentation3(image):\n",
    "    # 左右反転のノイズを加える\n",
    "    image = np.fliplr(image)\n",
    "       \n",
    "    if np.random.rand() > 0.5:    \n",
    "        # 左右どちらかに30度回転させる\n",
    "        size = (image.shape[0], image.shape[1])\n",
    "        # 画像の中心位置(x, y)\n",
    "        center = (int(size[0]/2), int(size[1]/2))\n",
    "        # 回転させたい角度\n",
    "        angle = -90\n",
    "        # 拡大比率\n",
    "        scale = 1.0\n",
    "        # 回転変換行列の算出\n",
    "        rotation_matrix = cv2.getRotationMatrix2D(center, angle, scale)\n",
    "        # 並進移動\n",
    "        image = cv2.warpAffine(image, rotation_matrix, size)\n",
    "    \n",
    "    return image"
   ]
  },
  {
   "cell_type": "code",
   "execution_count": 17,
   "metadata": {
    "collapsed": true
   },
   "outputs": [],
   "source": [
    "def augmentation4(image):\n",
    "    # 画像サイズを一度拡大する\n",
    "    # (画像, 変換後のサイズ, 横の拡大比率, 縦の拡大比率)\n",
    "    resized = cv2.resize(image, None, fx=0.8, fy=0.8)\n",
    "\n",
    "    # 変換前後のshapeを指定する\n",
    "    height_1, width_1,  = image.shape # 元画像と同じサイズにするので､そのサイズを取得\n",
    "    height_2, width_2,  = resized.shape # 拡大後の画像のサイズを取得\n",
    "\n",
    "    # x、y軸それぞれの切り取り開始点の決定\n",
    "    # ピクセルの指定は整数になるようにする\n",
    "    x =  int((width_1 - width_2) / 2)\n",
    "    y =  int((height_1 - height_2) / 2)\n",
    "\n",
    "    pad_x = np.zeros([height_2, x])\n",
    "    pad_y = np.zeros([y, width_1])\n",
    "    #切り取り開始点から元の画像分のサイズを切り取る\n",
    "    resized = np.hstack((pad_x, resized, pad_x))\n",
    "    resized = np.vstack((pad_y, resized, pad_y))\n",
    "    \n",
    "    return resized"
   ]
  },
  {
   "cell_type": "code",
   "execution_count": 18,
   "metadata": {
    "collapsed": true
   },
   "outputs": [],
   "source": [
    "#画像のAugmentation\n",
    "augmented1 = []\n",
    "for i in range(len(X_train)):\n",
    "    image = augmentation1(X_train[i])\n",
    "    augmented1.append(image)\n",
    "    \n",
    "augmented2 = []\n",
    "for i in range(len(X_train)):\n",
    "    image = augmentation2(X_train[i])\n",
    "    augmented2.append(image)\n",
    "    \n",
    "augmented3 = []\n",
    "for i in range(len(X_train)):\n",
    "    image = augmentation3(X_train[i])\n",
    "    augmented3.append(image)\n",
    "    \n",
    "augmented4 = []\n",
    "for i in range(len(X_train)):\n",
    "    image = augmentation4(X_train[i])\n",
    "    augmented4.append(image)"
   ]
  },
  {
   "cell_type": "code",
   "execution_count": 19,
   "metadata": {
    "collapsed": true
   },
   "outputs": [],
   "source": [
    "for i in range(len(augmented1)):\n",
    "    X_train.append(augmented1[i])\n",
    "    y_train.append(y_train[i])\n",
    "    \n",
    "for i in range(len(augmented2)):\n",
    "    X_train.append(augmented2[i])\n",
    "    y_train.append(y_train[i])\n",
    "    \n",
    "for i in range(len(augmented3)):\n",
    "    X_train.append(augmented3[i])\n",
    "    y_train.append(y_train[i])\n",
    "    \n",
    "for i in range(len(augmented4)):\n",
    "    X_train.append(augmented4[i])\n",
    "    y_train.append(y_train[i])"
   ]
  },
  {
   "cell_type": "code",
   "execution_count": 20,
   "metadata": {},
   "outputs": [
    {
     "data": {
      "text/plain": [
       "3465"
      ]
     },
     "execution_count": 20,
     "metadata": {},
     "output_type": "execute_result"
    }
   ],
   "source": [
    "len(X_train)"
   ]
  },
  {
   "cell_type": "code",
   "execution_count": 21,
   "metadata": {},
   "outputs": [
    {
     "data": {
      "text/plain": [
       "3465"
      ]
     },
     "execution_count": 21,
     "metadata": {},
     "output_type": "execute_result"
    }
   ],
   "source": [
    "len(y_train)"
   ]
  },
  {
   "cell_type": "code",
   "execution_count": 22,
   "metadata": {
    "collapsed": true
   },
   "outputs": [],
   "source": [
    "X_train = np.array(X_train)\n",
    "y_train = np.array(y_train)\n",
    "X_test = np.array(X_test)\n",
    "y_test = np.array(y_test)"
   ]
  },
  {
   "cell_type": "code",
   "execution_count": 23,
   "metadata": {
    "collapsed": true
   },
   "outputs": [],
   "source": [
    "X_train = X_train.astype(np.float32)\n",
    "y_train = y_train.astype(np.int32)\n",
    "X_test = X_test.astype(np.float32)\n",
    "y_test = y_test.astype(np.int32)"
   ]
  },
  {
   "cell_type": "code",
   "execution_count": 24,
   "metadata": {},
   "outputs": [
    {
     "data": {
      "text/plain": [
       "(3465, 100, 100)"
      ]
     },
     "execution_count": 24,
     "metadata": {},
     "output_type": "execute_result"
    }
   ],
   "source": [
    "X_train.shape"
   ]
  },
  {
   "cell_type": "code",
   "execution_count": 25,
   "metadata": {},
   "outputs": [
    {
     "data": {
      "text/plain": [
       "(3465,)"
      ]
     },
     "execution_count": 25,
     "metadata": {},
     "output_type": "execute_result"
    }
   ],
   "source": [
    "y_train.shape"
   ]
  },
  {
   "cell_type": "code",
   "execution_count": null,
   "metadata": {
    "collapsed": true
   },
   "outputs": [],
   "source": []
  },
  {
   "cell_type": "code",
   "execution_count": 26,
   "metadata": {
    "collapsed": true
   },
   "outputs": [],
   "source": [
    "X_train = X_train.reshape(-1, 10000)\n",
    "X_test = X_test.reshape(-1, 10000)"
   ]
  },
  {
   "cell_type": "code",
   "execution_count": 27,
   "metadata": {},
   "outputs": [
    {
     "data": {
      "text/plain": [
       "(3465, 10000)"
      ]
     },
     "execution_count": 27,
     "metadata": {},
     "output_type": "execute_result"
    }
   ],
   "source": [
    "X_train.shape"
   ]
  },
  {
   "cell_type": "code",
   "execution_count": 28,
   "metadata": {},
   "outputs": [
    {
     "data": {
      "text/plain": [
       "(297, 10000)"
      ]
     },
     "execution_count": 28,
     "metadata": {},
     "output_type": "execute_result"
    }
   ],
   "source": [
    "X_test.shape"
   ]
  },
  {
   "cell_type": "code",
   "execution_count": 29,
   "metadata": {
    "collapsed": true
   },
   "outputs": [],
   "source": [
    "X_train /= 255\n",
    "X_test /= 255"
   ]
  },
  {
   "cell_type": "code",
   "execution_count": 30,
   "metadata": {},
   "outputs": [
    {
     "data": {
      "text/plain": [
       "1.0"
      ]
     },
     "execution_count": 30,
     "metadata": {},
     "output_type": "execute_result"
    }
   ],
   "source": [
    "X_train.max()"
   ]
  },
  {
   "cell_type": "code",
   "execution_count": 31,
   "metadata": {},
   "outputs": [
    {
     "name": "stderr",
     "output_type": "stream",
     "text": [
      "C:\\Users\\Jin Sakuma\\Anaconda3\\lib\\site-packages\\h5py\\__init__.py:34: FutureWarning: Conversion of the second argument of issubdtype from `float` to `np.floating` is deprecated. In future, it will be treated as `np.float64 == np.dtype(float).type`.\n",
      "  from ._conv import register_converters as _register_converters\n"
     ]
    }
   ],
   "source": [
    "# 必要なモジュールの読み込み\n",
    "import chainer\n",
    "import chainer.functions as F\n",
    "import chainer.links as L\n",
    "from chainer import optimizers\n",
    "from chainer import computational_graph # グラフを出力するパッケージ\n",
    "from chainer.datasets import tuple_dataset, TransformDataset\n",
    "from chainer.training import extensions\n",
    "from chainer import optimizers, serializers, training, iterators"
   ]
  },
  {
   "cell_type": "code",
   "execution_count": 32,
   "metadata": {
    "collapsed": true
   },
   "outputs": [],
   "source": [
    "# ニューラルネットワークの定義\n",
    "# 4層のDeep Neural Network\n",
    "# chainerのChainクラスを継承\n",
    "class MLP(chainer.Chain):\n",
    "    ''' ニューラルネットの構造を定義'''\n",
    "    def __init__(self):\n",
    "        super(MLP, self).__init__()\n",
    "        with self.init_scope():\n",
    "            self.l1=L.Linear(10000, 7000)  # 第1層からの入力784､第2層への出力900\n",
    "            self.l2=L.Linear(7000, 1000) # 第2層からの入力600､第3層への出力1000\n",
    "            self.l3=L.Linear(1000, 500) # 第3層からの入力1000､第4層への出力500\n",
    "            self.l4=L.Linear(500, 99)   # 第4層からの入力500､出力層への出力10\n",
    "        \n",
    "    \n",
    "    ''' ニューラルネットの計算規則を定義'''\n",
    "    def __call__(self, X):\n",
    "        h1 = F.relu(self.l1(X))  # 1つめの隠れ層からの出力を計算\n",
    "        h2 = F.relu(self.l2(h1)) # 2つめの隠れ層からの出力を計算\n",
    "        h3 = F.relu(self.l3(h2)) # 3つめの隠れ層からの出力を計算\n",
    "        return self.l4(h3)       # 出力層への入力を返す"
   ]
  },
  {
   "cell_type": "code",
   "execution_count": 33,
   "metadata": {
    "collapsed": true
   },
   "outputs": [],
   "source": [
    "# 分類器インスタンスの生成\n",
    "# MLPクラスのインスタンスを引数として渡す\n",
    "model = L.Classifier(MLP())"
   ]
  },
  {
   "cell_type": "code",
   "execution_count": 34,
   "metadata": {
    "collapsed": true
   },
   "outputs": [],
   "source": [
    "# gpuの使用の有無を指定\n",
    "# 今回はCPUを想定しているため-1に指定\n",
    "gpu = -1 "
   ]
  },
  {
   "cell_type": "code",
   "execution_count": 35,
   "metadata": {
    "collapsed": true
   },
   "outputs": [],
   "source": [
    "# cupyの使用の有無を指定\n",
    "if gpu >= 0:\n",
    "    xp = cuda.cupy\n",
    "    cupy.cuda.Device(gpu).use()\n",
    "    model.to_gpu()\n",
    "else:\n",
    "    xp = np"
   ]
  },
  {
   "cell_type": "code",
   "execution_count": 36,
   "metadata": {
    "collapsed": true
   },
   "outputs": [],
   "source": [
    "# optimizerの定義\n",
    "optimizer = chainer.optimizers.SGD()  # 今回はSGDを利用\n",
    "optimizer.setup(model)                # モデルを読み込ませる"
   ]
  },
  {
   "cell_type": "code",
   "execution_count": 37,
   "metadata": {
    "collapsed": true
   },
   "outputs": [],
   "source": [
    "# ミニバッチに含まれるサンプル数を指定\n",
    "# データからサンプルを100個ずつ取り出して学習する\n",
    "batch_size = 100"
   ]
  },
  {
   "cell_type": "code",
   "execution_count": 38,
   "metadata": {
    "collapsed": true
   },
   "outputs": [],
   "source": [
    "# epoch数を指定\n",
    "n_epoch = 20"
   ]
  },
  {
   "cell_type": "code",
   "execution_count": 39,
   "metadata": {
    "collapsed": true
   },
   "outputs": [],
   "source": [
    "# X_trainとy_trainをTupleDatasetにまとめる\n",
    "train = tuple_dataset.TupleDataset(X_train, y_train)"
   ]
  },
  {
   "cell_type": "code",
   "execution_count": 40,
   "metadata": {
    "collapsed": true
   },
   "outputs": [],
   "source": [
    "# train_iterを生成\n",
    "train_iter = iterators.SerialIterator(train, batch_size=batch_size, shuffle=True)"
   ]
  },
  {
   "cell_type": "code",
   "execution_count": 41,
   "metadata": {
    "collapsed": true
   },
   "outputs": [],
   "source": [
    "# Updataerを生成\n",
    "# 今回はCPUの利用を想定\n",
    "updater = training.StandardUpdater(train_iter, optimizer, device=gpu)"
   ]
  },
  {
   "cell_type": "code",
   "execution_count": 42,
   "metadata": {
    "collapsed": true
   },
   "outputs": [],
   "source": [
    "# trainerの定義\n",
    "trainer = training.Trainer(updater, (n_epoch,'epoch'), out='result')"
   ]
  },
  {
   "cell_type": "code",
   "execution_count": 43,
   "metadata": {
    "collapsed": true
   },
   "outputs": [],
   "source": [
    "# testデータをTupleDatasetに変換\n",
    "test = tuple_dataset.TupleDataset(X_test,y_test)"
   ]
  },
  {
   "cell_type": "code",
   "execution_count": 44,
   "metadata": {
    "collapsed": true
   },
   "outputs": [],
   "source": [
    "# test_iterを生成\n",
    "test_iter = iterators.SerialIterator(test, batch_size=batch_size ,shuffle=False, repeat=False)"
   ]
  },
  {
   "cell_type": "code",
   "execution_count": 45,
   "metadata": {
    "collapsed": true
   },
   "outputs": [],
   "source": [
    "# Evaluatorクラスをtrainerに登録しておく\n",
    "trainer.extend(extensions.Evaluator(test_iter, model))"
   ]
  },
  {
   "cell_type": "code",
   "execution_count": 46,
   "metadata": {
    "collapsed": true
   },
   "outputs": [],
   "source": [
    "# ログファイルを作成する機能を追加\n",
    "trainer.extend(extensions.LogReport())"
   ]
  },
  {
   "cell_type": "code",
   "execution_count": 47,
   "metadata": {
    "collapsed": true
   },
   "outputs": [],
   "source": [
    "# 学習状況の報告を逐一出力する機能を追加\n",
    "trainer.extend(extensions.PrintReport(['epoch', 'main/loss', 'main/accuracy', 'validation/main/loss','validation/main/accuracy']))"
   ]
  },
  {
   "cell_type": "code",
   "execution_count": 48,
   "metadata": {
    "collapsed": true
   },
   "outputs": [],
   "source": [
    "# trainとtestの精度のグラフを出力\n",
    "trainer.extend(extensions.PlotReport(['main/accuracy', 'validation/main/accuracy'],\n",
    "                          'epoch', file_name='accuracy.png'))\n",
    "# trainとtestの損失関数のグラフを出力\n",
    "trainer.extend(extensions.PlotReport(['main/loss', 'validation/main/loss'],\n",
    "                          'epoch', file_name='loss.png'))"
   ]
  },
  {
   "cell_type": "code",
   "execution_count": 49,
   "metadata": {},
   "outputs": [
    {
     "name": "stdout",
     "output_type": "stream",
     "text": [
      "epoch       main/loss   main/accuracy  validation/main/loss  validation/main/accuracy\n",
      "1           4.50024     0.054          4.4782                0.0468729                 \n",
      "2           4.28712     0.103143       4.29644               0.0468729                 \n",
      "3           4.06826     0.140882       4.09647               0.107285                  \n",
      "4           3.85122     0.166286       3.87964               0.087079                  \n",
      "5           3.64143     0.197143       3.65269               0.16811                   \n",
      "6           3.46268     0.212059       3.4796                0.131237                  \n",
      "7           3.2941      0.239714       3.32168               0.141237                  \n",
      "8           3.14824     0.261714       3.1594                0.188213                  \n",
      "9           3.0355      0.271471       2.98347               0.228522                  \n",
      "10          2.91564     0.308571       2.91014               0.262268                  \n",
      "11          2.81133     0.316571       2.80688               0.285911                  \n",
      "12          2.71455     0.334412       2.79994               0.275395                  \n",
      "13          2.62877     0.365429       2.69429               0.28945                   \n",
      "14          2.55039     0.367429       2.67412               0.275498                  \n",
      "15          2.49498     0.375294       2.53258               0.289141                  \n",
      "16          2.40811     0.397429       2.5412                0.336735                  \n",
      "17          2.33563     0.406286       2.47969               0.309347                  \n",
      "18          2.27179     0.426765       2.35672               0.423918                  \n",
      "19          2.22039     0.431714       2.47874               0.329656                  \n",
      "20          2.15884     0.455294       2.42885               0.309863                  \n"
     ]
    }
   ],
   "source": [
    "# 指定した内容で学習を実行\n",
    "trainer.run()"
   ]
  },
  {
   "cell_type": "code",
   "execution_count": 50,
   "metadata": {
    "collapsed": true
   },
   "outputs": [],
   "source": [
    "# ReportPlotによるグラフを出力する関数\n",
    "from pylab import box\n",
    "def show_graph(src):\n",
    "    img =  plt.imread(src)\n",
    "    xpixels,ypixels = img.shape[0],img.shape[1]\n",
    "    dpi = 100\n",
    "    margin = 0.01\n",
    "    figsize = (1 + margin) * ypixels / dpi, (1 + margin) * xpixels / dpi\n",
    "\n",
    "    fig = plt.figure(figsize=figsize, dpi=dpi)\n",
    "    ax = fig.add_axes([margin, margin, 1 - 2*margin, 1 - 2*margin])\n",
    "    ax.tick_params(labelbottom=\"off\",bottom=\"off\")\n",
    "    ax.tick_params(labelleft=\"off\",left=\"off\")\n",
    "\n",
    "    ax.imshow(img, interpolation='none')\n",
    "    box(\"off\")\n",
    "    plt.show()"
   ]
  },
  {
   "cell_type": "code",
   "execution_count": 51,
   "metadata": {
    "scrolled": true
   },
   "outputs": [
    {
     "data": {
      "image/png": "[encoded data removed]",
      "text/plain": [
       "<matplotlib.figure.Figure at 0x2121acd0d68>"
      ]
     },
     "metadata": {},
     "output_type": "display_data"
    },
    {
     "data": {
      "image/png": "[encoded data removed]",
      "text/plain": [
       "<matplotlib.figure.Figure at 0x2121acc6c18>"
      ]
     },
     "metadata": {},
     "output_type": "display_data"
    }
   ],
   "source": [
    "# 誤差と精度のグラフを描画\n",
    "show_graph('result/loss.png')\n",
    "show_graph('result/accuracy.png')"
   ]
  },
  {
   "cell_type": "code",
   "execution_count": 53,
   "metadata": {
    "collapsed": true
   },
   "outputs": [],
   "source": [
    "# モデルを利用して予測をする関数を定義\n",
    "def predict(model, X):\n",
    "    # データ数が1の場合は、バッチサイズ分の次元を追加\n",
    "    if len(X.shape) == 1:  \n",
    "        pred = model.predictor(X[None, ...]).data.argmax()\n",
    "    # データ数が2以上の場合はそのまま\n",
    "    else:  \n",
    "        pred = model.predictor(X).data.argmax(axis=1)\n",
    "    return pred"
   ]
  },
  {
   "cell_type": "code",
   "execution_count": 54,
   "metadata": {},
   "outputs": [
    {
     "data": {
      "text/plain": [
       "array([[3, 0, 0, ..., 0, 0, 0],\n",
       "       [0, 2, 0, ..., 0, 0, 0],\n",
       "       [0, 0, 3, ..., 0, 0, 0],\n",
       "       ...,\n",
       "       [0, 0, 0, ..., 0, 0, 0],\n",
       "       [0, 0, 0, ..., 0, 4, 0],\n",
       "       [0, 0, 0, ..., 0, 0, 0]], dtype=int64)"
      ]
     },
     "execution_count": 54,
     "metadata": {},
     "output_type": "execute_result"
    }
   ],
   "source": [
    "# 混同行列を出力\n",
    "# testデータに対して行うことに注意\n",
    "from sklearn.metrics import confusion_matrix as cm\n",
    "result = predict(model, X_test)\n",
    "cm(result, y_test)"
   ]
  },
  {
   "cell_type": "code",
   "execution_count": 55,
   "metadata": {},
   "outputs": [
    {
     "name": "stdout",
     "output_type": "stream",
     "text": [
      "accuracy: 0.310\n"
     ]
    },
    {
     "name": "stderr",
     "output_type": "stream",
     "text": [
      "C:\\Users\\Jin Sakuma\\Anaconda3\\lib\\site-packages\\sklearn\\metrics\\classification.py:1137: UndefinedMetricWarning: Recall is ill-defined and being set to 0.0 in labels with no true samples.\n",
      "  'recall', 'true', average, warn_for)\n"
     ]
    },
    {
     "name": "stdout",
     "output_type": "stream",
     "text": [
      "recall: 0.339\n"
     ]
    },
    {
     "name": "stderr",
     "output_type": "stream",
     "text": [
      "C:\\Users\\Jin Sakuma\\Anaconda3\\lib\\site-packages\\sklearn\\metrics\\classification.py:1135: UndefinedMetricWarning: Precision is ill-defined and being set to 0.0 in labels with no predicted samples.\n",
      "  'precision', 'predicted', average, warn_for)\n"
     ]
    },
    {
     "name": "stdout",
     "output_type": "stream",
     "text": [
      "precision: 0.284\n",
      "f1_score: 0.258\n"
     ]
    },
    {
     "name": "stderr",
     "output_type": "stream",
     "text": [
      "C:\\Users\\Jin Sakuma\\Anaconda3\\lib\\site-packages\\sklearn\\metrics\\classification.py:1135: UndefinedMetricWarning: F-score is ill-defined and being set to 0.0 in labels with no predicted samples.\n",
      "  'precision', 'predicted', average, warn_for)\n",
      "C:\\Users\\Jin Sakuma\\Anaconda3\\lib\\site-packages\\sklearn\\metrics\\classification.py:1137: UndefinedMetricWarning: F-score is ill-defined and being set to 0.0 in labels with no true samples.\n",
      "  'recall', 'true', average, warn_for)\n"
     ]
    }
   ],
   "source": [
    "# 性能指標を確認\n",
    "from sklearn import metrics\n",
    "print('accuracy: %.3f' % metrics.accuracy_score(y_test, predict(model, X_test)))\n",
    "print('recall: %.3f' % metrics.recall_score(y_test, predict(model, X_test), average='macro'))\n",
    "print('precision: %.3f' % metrics.precision_score(y_test, predict(model, X_test), average='macro'))\n",
    "print('f1_score: %.3f' % metrics.f1_score(y_test, predict(model, X_test), average='macro'))"
   ]
  },
  {
   "cell_type": "code",
   "execution_count": 56,
   "metadata": {},
   "outputs": [
    {
     "name": "stdout",
     "output_type": "stream",
     "text": [
      "Saved the model.\n"
     ]
    }
   ],
   "source": [
    "# モデルの保存\n",
    "# (ファイル名, 保存したいモデルの変数名)\n",
    "serializers.save_npz('leaf.model', model)\n",
    "print('Saved the model.')"
   ]
  },
  {
   "cell_type": "code",
   "execution_count": 57,
   "metadata": {},
   "outputs": [
    {
     "name": "stdout",
     "output_type": "stream",
     "text": [
      "Loaded the model.\n"
     ]
    }
   ],
   "source": [
    "# モデルの読込\n",
    "# (ファイル名, 読み込みたいモデルに与える変数名)\n",
    "model_reloaded = L.Classifier(MLP())\n",
    "serializers.load_npz('leaf.model', model_reloaded)\n",
    "print('Loaded the model.')"
   ]
  },
  {
   "cell_type": "code",
   "execution_count": 58,
   "metadata": {},
   "outputs": [
    {
     "data": {
      "text/plain": [
       "<chainer.links.model.classifier.Classifier at 0x2121ad5d390>"
      ]
     },
     "execution_count": 58,
     "metadata": {},
     "output_type": "execute_result"
    }
   ],
   "source": [
    "# モデルを読み込めたことを確認\n",
    "model_reloaded"
   ]
  },
  {
   "cell_type": "code",
   "execution_count": null,
   "metadata": {
    "collapsed": true
   },
   "outputs": [],
   "source": []
  }
 ],
 "metadata": {
  "kernelspec": {
   "display_name": "Python 3",
   "language": "python",
   "name": "python3"
  },
  "language_info": {
   "codemirror_mode": {
    "name": "ipython",
    "version": 3
   },
   "file_extension": ".py",
   "mimetype": "text/x-python",
   "name": "python",
   "nbconvert_exporter": "python",
   "pygments_lexer": "ipython3",
   "version": "3.6.3"
  }
 },
 "nbformat": 4,
 "nbformat_minor": 2
}
